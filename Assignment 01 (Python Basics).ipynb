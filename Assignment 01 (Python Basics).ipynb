{
 "cells": [
  {
   "cell_type": "markdown",
   "metadata": {},
   "source": [
    "# Part -1 Python Basics (Variables)"
   ]
  },
  {
   "cell_type": "markdown",
   "metadata": {},
   "source": [
    "1. Print Your Name with your Father name and Date of birth using suitable escape sequence charactor"
   ]
  },
  {
   "cell_type": "code",
   "execution_count": 5,
   "metadata": {},
   "outputs": [
    {
     "name": "stdout",
     "output_type": "stream",
     "text": [
      "Muhammad Anas \n",
      "Muhammad Shafi \n",
      "16 June 2000\n"
     ]
    }
   ],
   "source": [
    "print (\"Muhammad Anas \\nMuhammad Shafi \\n16 June 2000\")\n",
    "\n"
   ]
  },
  {
   "cell_type": "markdown",
   "metadata": {},
   "source": [
    "2. Write your small bio using variables and print it using print function"
   ]
  },
  {
   "cell_type": "code",
   "execution_count": 10,
   "metadata": {},
   "outputs": [],
   "source": [
    "bio = '''Muhammad Anas, a 24-year-old student, is currently enhancing his programming skills through a Python course at SMIT,\n",
    "guided by Sir Qasim. Alongside his interest in technology, Anas is also pursuing the ACCA (UK) qualification, \n",
    "a prestigious credential in accounting and finance. With a diverse educational background,\n",
    "he is well-equipped to excel in both fields, blending technical expertise with financial acumen'''\n"
   ]
  },
  {
   "cell_type": "code",
   "execution_count": 11,
   "metadata": {},
   "outputs": [
    {
     "name": "stdout",
     "output_type": "stream",
     "text": [
      "Muhammad Anas, a 24-year-old student, is currently enhancing his programming skills through a Python course at SMIT,\n",
      "guided by Sir Qasim. Alongside his interest in technology, Anas is also pursuing the ACCA (UK) qualification, \n",
      "a prestigious credential in accounting and finance. With a diverse educational background,\n",
      "he is well-equipped to excel in both fields, blending technical expertise with financial acumen\n"
     ]
    }
   ],
   "source": [
    "print(bio)"
   ]
  },
  {
   "cell_type": "markdown",
   "metadata": {},
   "source": [
    "3. Write a program in which use all the operators we can use in Python"
   ]
  },
  {
   "cell_type": "code",
   "execution_count": 15,
   "metadata": {},
   "outputs": [],
   "source": [
    "#A company starts a business introducing a capital of 100000 and also introduce a some cash into business although\n",
    "# total income earn by a business in a year is 45000, total drawings are 15000 and total payables are 50000. Calcualte the total assets?\n",
    "\n",
    "capital = 100000\n",
    "liabilties = 50000\n",
    "profit = 45000\n",
    "drawings = 15000"
   ]
  },
  {
   "cell_type": "code",
   "execution_count": 16,
   "metadata": {},
   "outputs": [
    {
     "name": "stdout",
     "output_type": "stream",
     "text": [
      "180000\n"
     ]
    }
   ],
   "source": [
    "print(capital+liabilties+profit-drawings)"
   ]
  },
  {
   "cell_type": "markdown",
   "metadata": {},
   "source": [
    "4. Completes the following steps of small task:\n",
    "    - Mention Marks of English , Islamiat and Maths out of 100 in 3 different variables\n",
    "    - Mention Variable of Total Marks and assign 300 to it\n",
    "    - Calculate Percentage"
   ]
  },
  {
   "cell_type": "code",
   "execution_count": 17,
   "metadata": {},
   "outputs": [],
   "source": [
    "total_marks = 300\n",
    "english_marks = 45\n",
    "islamiat_marks = 55\n",
    "maths_marks = 70"
   ]
  },
  {
   "cell_type": "code",
   "execution_count": 20,
   "metadata": {},
   "outputs": [],
   "source": [
    "obtained_marks = english_marks + islamiat_marks + maths_marks\n",
    "percentage = (obtained_marks/total_marks)*100"
   ]
  },
  {
   "cell_type": "code",
   "execution_count": 23,
   "metadata": {},
   "outputs": [
    {
     "name": "stdout",
     "output_type": "stream",
     "text": [
      "Marks in English: 45\n",
      "Marks in Islamiat: 55\n",
      "Marks in Maths: 70\n",
      "Marks Obtained: 170\n",
      "Percentage: 56.666666666666664\n"
     ]
    }
   ],
   "source": [
    "print(f\"Marks in English: {english_marks}\")\n",
    "print(f\"Marks in Islamiat: {islamiat_marks}\")\n",
    "print(f\"Marks in Maths: {maths_marks}\")\n",
    "print(f\"Marks Obtained: {obtained_marks}\")\n",
    "print(f\"Percentage: {percentage}\")\n"
   ]
  },
  {
   "cell_type": "code",
   "execution_count": 24,
   "metadata": {},
   "outputs": [
    {
     "name": "stdout",
     "output_type": "stream",
     "text": [
      "Your Percentage is 57\n"
     ]
    }
   ],
   "source": [
    "import math\n",
    "\n",
    "x = 56.6666\n",
    "y = (math.ceil(x))\n",
    "print(\"Your Percentage is\",y)"
   ]
  },
  {
   "cell_type": "markdown",
   "metadata": {},
   "source": [
    "# Part -2 Python Basics (Conditional Statements)"
   ]
  },
  {
   "cell_type": "markdown",
   "metadata": {},
   "source": [
    "1) A company decided to give bonus of 5% to employee if his/her year of service is more than 5 years.\n",
    "Ask user for their salary and year of service and print the net bonus amount."
   ]
  },
  {
   "cell_type": "code",
   "execution_count": 37,
   "metadata": {},
   "outputs": [
    {
     "name": "stdin",
     "output_type": "stream",
     "text": [
      "Enter your salary 40000\n",
      "Enter your Year of Service 6\n"
     ]
    },
    {
     "name": "stdout",
     "output_type": "stream",
     "text": [
      "Congractulation of taking Bonus: 2000.0\n"
     ]
    }
   ],
   "source": [
    "salary = int(input(\"Enter your salary\"))\n",
    "year_service = int(input(\"Enter your Year of Service\"))\n",
    "bonus = 0.05\n",
    "\n",
    "if year_service >= 5:\n",
    "    print(f\"Congractulation of taking Bonus: {salary*bonus}\")\n",
    "else:\n",
    "    print(\"Your are not taking Bonus\")"
   ]
  },
  {
   "cell_type": "markdown",
   "metadata": {},
   "source": [
    "\n",
    "2) Write a program to check whether a person is eligible for voting or not. (accept age from user) if age is greater than 17 eligible otherwise not eligible"
   ]
  },
  {
   "cell_type": "code",
   "execution_count": 41,
   "metadata": {},
   "outputs": [
    {
     "name": "stdin",
     "output_type": "stream",
     "text": [
      "Enter your Age 18\n"
     ]
    },
    {
     "name": "stdout",
     "output_type": "stream",
     "text": [
      "You are eligible for voting\n"
     ]
    }
   ],
   "source": [
    "age = int(input(\"Enter your Age\"))\n",
    "\n",
    "if age >= 17:\n",
    "    print(\"You are eligible for voting\")\n",
    "else:\n",
    "    print(\"You are not eligible\")"
   ]
  },
  {
   "cell_type": "markdown",
   "metadata": {},
   "source": [
    "\n",
    "3) Write a program to check whether a number entered by user is even or odd."
   ]
  },
  {
   "cell_type": "code",
   "execution_count": 46,
   "metadata": {},
   "outputs": [
    {
     "name": "stdin",
     "output_type": "stream",
     "text": [
      "Enter your Number 2\n"
     ]
    },
    {
     "name": "stdout",
     "output_type": "stream",
     "text": [
      "The number 2 is even.\n"
     ]
    }
   ],
   "source": [
    "number_enter = int(input(\"Enter your Number\"))\n",
    "\n",
    "if number_enter % 2 == 0:\n",
    "    print(f\"The number {number_enter} is even.\")\n",
    "else:\n",
    "    print(f\"The number {number_enter} is odd.\")\n"
   ]
  },
  {
   "cell_type": "code",
   "execution_count": 47,
   "metadata": {},
   "outputs": [
    {
     "name": "stdin",
     "output_type": "stream",
     "text": [
      "Enter your Number 9\n"
     ]
    },
    {
     "name": "stdout",
     "output_type": "stream",
     "text": [
      "The number 9 is odd.\n"
     ]
    }
   ],
   "source": [
    "number_enter = int(input(\"Enter your Number\"))\n",
    "\n",
    "if number_enter % 2 == 0:\n",
    "    print(f\"The number {number_enter} is even.\")\n",
    "else:\n",
    "    print(f\"The number {number_enter} is odd.\")"
   ]
  },
  {
   "cell_type": "markdown",
   "metadata": {},
   "source": [
    "4) Write a program to check whether a number is divisible by 7 or not.\n",
    "Show Answer"
   ]
  },
  {
   "cell_type": "code",
   "execution_count": 49,
   "metadata": {},
   "outputs": [
    {
     "name": "stdin",
     "output_type": "stream",
     "text": [
      "Check number is divisble by 7 14\n"
     ]
    },
    {
     "name": "stdout",
     "output_type": "stream",
     "text": [
      "The number 14 is divisble by 7.\n"
     ]
    }
   ],
   "source": [
    "number_check = int(input(\"Check number is divisble by 7\"))\n",
    "\n",
    "if number_check % 7 == 0:\n",
    "    print(f\"The number {number_check} is divisble by 7.\")\n",
    "else:\n",
    "    print(f\"The number {number_check} isn't divisble by 7.\")"
   ]
  },
  {
   "cell_type": "markdown",
   "metadata": {},
   "source": [
    "5) Write a program to display \n",
    "\"Hello\" if a number entered by user is a multiple of five , otherwise print \"Bye\"."
   ]
  },
  {
   "cell_type": "code",
   "execution_count": 68,
   "metadata": {},
   "outputs": [
    {
     "name": "stdin",
     "output_type": "stream",
     "text": [
      "Enter your Number 345678\n"
     ]
    },
    {
     "name": "stdout",
     "output_type": "stream",
     "text": [
      "Hello\n"
     ]
    }
   ],
   "source": [
    "user_number = input(\"Enter your Number\")\n",
    "\n",
    "if  len(user_number) > 5:\n",
    "    print(\"Hello\")\n",
    "else:\n",
    "    print(\"Bye\")\n"
   ]
  },
  {
   "cell_type": "markdown",
   "metadata": {},
   "source": [
    "7) Write a program to display the last digit of a number.\n"
   ]
  },
  {
   "cell_type": "code",
   "execution_count": 69,
   "metadata": {},
   "outputs": [
    {
     "name": "stdin",
     "output_type": "stream",
     "text": [
      "Enter a number: 45\n"
     ]
    },
    {
     "name": "stdout",
     "output_type": "stream",
     "text": [
      "The Last Digit of 45 is 5.\n"
     ]
    }
   ],
   "source": [
    "number_last = int(input(\"Enter a number:\"))\n",
    "\n",
    "last_digit = number_last % 10\n",
    "\n",
    "print(f\"The Last Digit of {number_last} is {last_digit}.\")"
   ]
  },
  {
   "cell_type": "markdown",
   "metadata": {},
   "source": [
    "9) Take values of length and breadth of a rectangle from user and print if it is square or rectangle."
   ]
  },
  {
   "cell_type": "code",
   "execution_count": 72,
   "metadata": {},
   "outputs": [
    {
     "name": "stdin",
     "output_type": "stream",
     "text": [
      "Enter length: 4\n",
      "Enter breath: 4\n"
     ]
    },
    {
     "name": "stdout",
     "output_type": "stream",
     "text": [
      "It's a sqaure\n"
     ]
    }
   ],
   "source": [
    "length = int(input(\"Enter length:\"))\n",
    "breath = int(input(\"Enter breath:\"))\n",
    "\n",
    "if length == breath:\n",
    "    print(\"It's a sqaure\")\n",
    "else:\n",
    "    print(\"It's a rectangle\")"
   ]
  },
  {
   "cell_type": "markdown",
   "metadata": {},
   "source": [
    "10) Take two int values from user and print greatest among them."
   ]
  },
  {
   "cell_type": "code",
   "execution_count": 76,
   "metadata": {},
   "outputs": [
    {
     "name": "stdin",
     "output_type": "stream",
     "text": [
      "Enter your First Number: 5\n",
      "Enter your Second Number: 6\n"
     ]
    },
    {
     "name": "stdout",
     "output_type": "stream",
     "text": [
      "Your Greater value is 6.\n"
     ]
    }
   ],
   "source": [
    "value_first = int(input(\"Enter your First Number:\"))\n",
    "value_second = int(input(\"Enter your Second Number:\"))\n",
    "\n",
    "if value_first > value_second:\n",
    "    print(f\"Your Greater value is {value_first}.\")\n",
    "elif value_second > value_first:\n",
    "    print(f\"Your Greater value is {value_second}.\")\n",
    "else:\n",
    "    print(\"Both Numbers are equal\")"
   ]
  },
  {
   "cell_type": "markdown",
   "metadata": {},
   "source": [
    "11) A shop will give discount of 10% if the cost of purchased quantity is more than 1000.\n",
    "Ask user for quantity\n",
    "Suppose, one unit will cost 100.\n",
    "Judge and print total cost for user."
   ]
  },
  {
   "cell_type": "code",
   "execution_count": 4,
   "metadata": {},
   "outputs": [
    {
     "name": "stdin",
     "output_type": "stream",
     "text": [
      "Enter your Purchase Quantity: 100\n"
     ]
    },
    {
     "name": "stdout",
     "output_type": "stream",
     "text": [
      "Your Total Cost after Discount of 10% is: 9000.0.\n"
     ]
    }
   ],
   "source": [
    "cost_per_unit = 100\n",
    "discount = 0.1\n",
    "purchased_qty = int(input(\"Enter your Purchase Quantity:\"))\n",
    "total_cost = purchased_qty * cost_per_unit\n",
    "discount_given = total_cost * discount\n",
    "\n",
    "if total_cost > 1000:\n",
    "    total_cost -= discount_given\n",
    "    print(f\"Your Total Cost after Discount of 10% is: {total_cost}.\")\n",
    "else:\n",
    "    print(f\"Your Total Cost is: {total_cost}.\")\n",
    "    \n"
   ]
  },
  {
   "cell_type": "markdown",
   "metadata": {},
   "source": [
    "12) A school has following rules for grading system:\n",
    "\n",
    "a. Below 25 - F\n",
    "\n",
    "b. 25 to 45 - E\n",
    "\n",
    "c. 45 to 50 - D\n",
    "\n",
    "d. 50 to 60 - C\n",
    "\n",
    "e. 60 to 80 - B\n",
    "\n",
    "f. Above 80 - A\n",
    "\n",
    "Ask user to enter marks and print the corresponding grade."
   ]
  },
  {
   "cell_type": "code",
   "execution_count": 9,
   "metadata": {},
   "outputs": [
    {
     "name": "stdin",
     "output_type": "stream",
     "text": [
      "Enter Your Marks: 56\n"
     ]
    },
    {
     "name": "stdout",
     "output_type": "stream",
     "text": [
      "You Got C Grade\n"
     ]
    }
   ],
   "source": [
    "enter_marks = int(input(\"Enter Your Marks:\"))\n",
    "\n",
    "if enter_marks >= 80:\n",
    "    print(\"You Got A Grade\")\n",
    "elif enter_marks >= 60:\n",
    "    print(\"You Got B Grade\")\n",
    "elif enter_marks >= 50:\n",
    "    print(\"You Got C Grade\")\n",
    "elif enter_marks >= 45:\n",
    "    print(\"You Got D Grade\")\n",
    "elif enter_marks >= 25:\n",
    "    print(\"You Got E Grade\")\n",
    "else:\n",
    "    print(\"You are Fail\")\n"
   ]
  },
  {
   "cell_type": "markdown",
   "metadata": {},
   "source": [
    "14)A student will not be allowed to sit in exam if his/her attendence is less than 75%.\n",
    "\n",
    "Take following input from user\n",
    "\n",
    "- Number of classes held\n",
    "\n",
    "- Number of classes attended.\n",
    "\n",
    "And print\n",
    "\n",
    "- percentage of class attended\n",
    "\n",
    "- Is student is allowed to sit in exam or not.\n"
   ]
  },
  {
   "cell_type": "code",
   "execution_count": 20,
   "metadata": {},
   "outputs": [
    {
     "name": "stdin",
     "output_type": "stream",
     "text": [
      "Enter Number of Classes Held 20\n",
      "Enter Number of Classes Attend 15\n"
     ]
    },
    {
     "name": "stdout",
     "output_type": "stream",
     "text": [
      "Percentage: 75.0.\n",
      "Student allow to sit in exam\n"
     ]
    }
   ],
   "source": [
    "class_held = int(input(\"Enter Number of Classes Held\"))\n",
    "class_attend = int(input(\"Enter Number of Classes Attend\"))\n",
    "\n",
    "percentage = (class_attend/class_held)*100\n",
    "\n",
    "print(f\"Percentage: {percentage}.\")\n",
    "\n",
    "if percentage >= 75:\n",
    "    print(f\"Student allow to sit in exam\")\n",
    "else:\n",
    "    print(f\"Student don't allow to attend in exam\")\n",
    "    \n"
   ]
  },
  {
   "cell_type": "markdown",
   "metadata": {},
   "source": [
    "15) Modify the above question to allow student to sit if he/she has medical cause. Ask user if he/she has medical cause or not ( 'Y' or 'N' ) and print accordingly."
   ]
  },
  {
   "cell_type": "code",
   "execution_count": 23,
   "metadata": {},
   "outputs": [
    {
     "name": "stdin",
     "output_type": "stream",
     "text": [
      "Do you have Medical Cause? (Y/N): Y\n"
     ]
    },
    {
     "name": "stdout",
     "output_type": "stream",
     "text": [
      "You are not allow to sit in exam\n"
     ]
    }
   ],
   "source": [
    "medical_cause = input(\"Do you have Medical Cause? (Y/N):\")\n",
    "\n",
    "if medical_cause == 'Y':\n",
    "    print(\"You are not allow to sit in exam\")\n",
    "else:\n",
    "    print(\"You are allow to sit in exam\")\n",
    "    "
   ]
  },
  {
   "cell_type": "markdown",
   "metadata": {},
   "source": [
    "16) Write a program to check if a year is leap year or not.\n",
    "\n",
    "If a year is divisible by 4 then it is leap year but if the year is century year like 2000, 1900, 2100 then it must be divisible by 400."
   ]
  },
  {
   "cell_type": "code",
   "execution_count": 6,
   "metadata": {},
   "outputs": [
    {
     "name": "stdin",
     "output_type": "stream",
     "text": [
      "Enter Year to Calculate leap year or not: 1900\n"
     ]
    },
    {
     "name": "stdout",
     "output_type": "stream",
     "text": [
      "It is Leap Year\n"
     ]
    }
   ],
   "source": [
    "year_enter = int(input(\"Enter Year to Calculate leap year or not:\"))\n",
    "\n",
    "if year_enter % 4 == 0:\n",
    "    print(\"It is Leap Year\")\n",
    "elif year_enter % 400 == 0:\n",
    "        print(\"Its a Leap Year\")\n",
    "else:\n",
    "    print(\"Its not a Leap Year\")\n"
   ]
  },
  {
   "cell_type": "markdown",
   "metadata": {},
   "source": [
    "17) Ask user to enter age, gender ( M or F ), marital status ( Y or N ) and then using following rules print their place of service.\n",
    "\n",
    "if employee is female, then she will work only in urban areas.\n",
    "\n",
    "if employee is a male and age is in between 20 to 40 then he may work in anywhere\n",
    "\n",
    "if employee is male and age is in between 40 t0 60 then he will work in urban areas only.\n",
    "\n",
    "And any other input of age should print \"ERROR\""
   ]
  },
  {
   "cell_type": "code",
   "execution_count": 33,
   "metadata": {},
   "outputs": [
    {
     "name": "stdin",
     "output_type": "stream",
     "text": [
      "Enter your age: 60\n",
      "Enter your Gender: (M/F): M\n",
      "Enter your Martial Status: (Y/N): Y\n"
     ]
    },
    {
     "name": "stdout",
     "output_type": "stream",
     "text": [
      "He will work in urban areas only\n"
     ]
    }
   ],
   "source": [
    "age = int(input(\"Enter your age:\"))\n",
    "gender = input(\"Enter your Gender: (M/F):\")\n",
    "martial_status = input(\"Enter your Martial Status: (Y/N):\")\n",
    "\n",
    "if gender == 'F':\n",
    "    print(\"She Will work only in urban areas\")\n",
    "elif gender == 'M':\n",
    "    if 20 <= age <= 40:\n",
    "        print(\"He can work anywhere\")\n",
    "    elif 40 <= age <= 60:\n",
    "        print(\"He will work in urban areas only\")\n",
    "    else:\n",
    "        print(\"Age Criteria not met\")\n",
    "else:\n",
    "    print(\"Error: Invalid Gender\")\n",
    "    \n",
    "    "
   ]
  },
  {
   "cell_type": "markdown",
   "metadata": {},
   "source": [
    "6) Write a program to calculate the electricity bill (accept number of unit from user) according to the following criteria :\n",
    "     Unit                                                     Price  \n",
    "uptp 100 units                                             no charge\n",
    "Next 200 units                                              Rs 5 per unit\n",
    "After 200 units                                             Rs 10 per unit\n",
    "(For example if input unit is 350 than total bill amount is Rs.3500\n",
    "(For example if input unit is 97 than total bill amount is Rs.0\n",
    "(For example if input unit is 150 than total bill amount is Rs.750"
   ]
  },
  {
   "cell_type": "code",
   "execution_count": 12,
   "metadata": {},
   "outputs": [
    {
     "name": "stdin",
     "output_type": "stream",
     "text": [
      "Enter your Units: 400\n"
     ]
    },
    {
     "name": "stdout",
     "output_type": "stream",
     "text": [
      "Your Bill Amount 4000 is.\n"
     ]
    }
   ],
   "source": [
    "unit_consumed = int(input(\"Enter your Units:\"))\n",
    "\n",
    "if unit_consumed <= 100:\n",
    "    bill_amount = (unit_consumed * 0)\n",
    "    print(f\"Your Bill Amount {bill_amount} is.\")\n",
    "elif unit_consumed <= 300:\n",
    "    bill_amount = (unit_consumed * 5)\n",
    "    print(f\"Your Bill Amount {bill_amount} is.\")\n",
    "elif unit_consumed <= 500:\n",
    "    bill_amount = (unit_consumed * 10)\n",
    "    print(f\"Your Bill Amount {bill_amount} is.\")\n",
    "else:\n",
    "    print(\"Error in Input\")\n",
    "    \n"
   ]
  },
  {
   "cell_type": "markdown",
   "metadata": {},
   "source": [
    "13) Take input of age of 3 people by user and determine oldest and youngest among them."
   ]
  },
  {
   "cell_type": "code",
   "execution_count": 15,
   "metadata": {},
   "outputs": [
    {
     "ename": "IndentationError",
     "evalue": "expected an indented block after 'if' statement on line 11 (3219807965.py, line 12)",
     "output_type": "error",
     "traceback": [
      "\u001b[1;36m  Cell \u001b[1;32mIn[15], line 12\u001b[1;36m\u001b[0m\n\u001b[1;33m    oldest = age_3\u001b[0m\n\u001b[1;37m    ^\u001b[0m\n\u001b[1;31mIndentationError\u001b[0m\u001b[1;31m:\u001b[0m expected an indented block after 'if' statement on line 11\n"
     ]
    }
   ],
   "source": [
    "\n",
    "\n",
    "        \n",
    "\n",
    "\n"
   ]
  },
  {
   "cell_type": "code",
   "execution_count": null,
   "metadata": {},
   "outputs": [],
   "source": []
  }
 ],
 "metadata": {
  "kernelspec": {
   "display_name": "Python 3 (ipykernel)",
   "language": "python",
   "name": "python3"
  },
  "language_info": {
   "codemirror_mode": {
    "name": "ipython",
    "version": 3
   },
   "file_extension": ".py",
   "mimetype": "text/x-python",
   "name": "python",
   "nbconvert_exporter": "python",
   "pygments_lexer": "ipython3",
   "version": "3.11.7"
  }
 },
 "nbformat": 4,
 "nbformat_minor": 4
}
